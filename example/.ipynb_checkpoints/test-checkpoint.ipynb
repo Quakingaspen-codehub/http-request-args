{
 "cells": [
  {
   "cell_type": "code",
   "execution_count": 1,
   "metadata": {},
   "outputs": [],
   "source": [
    "from http_request_args.utilities import OperatorPrototype\n",
    "from http_request_args.argument import Argument, NumberArgument, StringArgument, ListArgument, FileArgument, JsonArgument\n",
    "from http_request_args.validation import RequestArgsValidator\n",
    "from http_request_args.status import ArgumentsStatus\n",
    "from pprint import pprint"
   ]
  },
  {
   "cell_type": "markdown",
   "metadata": {},
   "source": [
    "## Number Argument Test"
   ]
  },
  {
   "cell_type": "code",
   "execution_count": 2,
   "metadata": {},
   "outputs": [],
   "source": [
    "def odd_number(num):\n",
    "    return num % 2 != 0\n",
    "\n",
    "def divisible_by_3(num):\n",
    "    return num % 3 != 0"
   ]
  },
  {
   "cell_type": "code",
   "execution_count": 3,
   "metadata": {},
   "outputs": [
    {
     "name": "stdout",
     "output_type": "stream",
     "text": [
      "Validation Report:\n",
      "{'id_': 'should be in the range [0.5, 120.2] but the passed value is : 500\\n'\n",
      "        'should be one of the following options [1, 3, 5, 7] but the passed '\n",
      "        'value is 500\\n'\n",
      "        'should satisfy odd_number function but the passed value is 500\\n'}\n",
      "*************************\n",
      "Help Report:\n",
      "{'id_': 'This argument is required \\n'\n",
      "        'This argument should be float \\n'\n",
      "        'This argument should be one of the following options [1, 3, 5, 7] \\n'\n",
      "        'This argument should satisfy [odd_number, divisible_by_3] functions \\n'\n",
      "        'This argument should be greater than 0 \\n'\n",
      "        'This argument should be in the range [0.5, 120.2] \\n'}\n"
     ]
    }
   ],
   "source": [
    "# Number Arguments\n",
    "number_arg_def = NumberArgument('id_', \n",
    "                            arg_type=float, \n",
    "                            required=True, \n",
    "                            req_range = [0.5, 120.2],\n",
    "                            comparison_operator=OperatorPrototype.create_greater_than_operator(0), \n",
    "                            req_options=[1, 3, 5, 7],\n",
    "                            functions_list=[odd_number, divisible_by_3])\n",
    "\n",
    "\n",
    "test_dict = {\n",
    "    'id_': 500\n",
    "}\n",
    "\n",
    "# Result\n",
    "print('Validation Report:')\n",
    "number_arg_def.assert_arg(test_dict)\n",
    "pprint(number_arg_def.validation_report)\n",
    "print('*' * 25)\n",
    "print('Help Report:')\n",
    "number_arg_def.arg_help()\n",
    "\n",
    "pprint(number_arg_def.help_report)"
   ]
  },
  {
   "cell_type": "markdown",
   "metadata": {},
   "source": [
    "## String Argument Test"
   ]
  },
  {
   "cell_type": "code",
   "execution_count": 4,
   "metadata": {},
   "outputs": [],
   "source": [
    "def cotain_white_space(str_):\n",
    "    return str_.count(' ') > 0"
   ]
  },
  {
   "cell_type": "code",
   "execution_count": 5,
   "metadata": {},
   "outputs": [
    {
     "name": "stdout",
     "output_type": "stream",
     "text": [
      "Validation Report:\n",
      "{'name': 'should be less than 2020-07-15 but the passed value is : '\n",
      "         '2020-08-06\\n'}\n",
      "*************************\n",
      "Help Report:\n",
      "{'name': 'This argument is optional \\n'\n",
      "         'This argument should be str \\n'\n",
      "         'This argument length should be in the range [1, 120] \\n'\n",
      "         'This argument should represent a date with the following pattern '\n",
      "         '^\\\\d{4}/\\\\d{1,2}/\\\\d{1,2}$, and format %Y/%m/%d \\n'\n",
      "         'This argument should be greater than or equal to 2000-01-01 '\n",
      "         '00:00:00 \\n'\n",
      "         \"This argument should be in the range ['2000/1/1', '2020/10/1'] \\n\"\n",
      "         'This argument should be less than 2020-07-15 \\n'}\n"
     ]
    }
   ],
   "source": [
    "# String Arguments\n",
    "string_arg_def = StringArgument('name', \n",
    "                            required = False, \n",
    "#                             is_email = True,\n",
    "#                             email_regex_pattern = '(?:[a-z0-9!#$%&\\'*+/=?^_`{|}~-]+(?:\\.[a-z0-9!#$%&\\'*+/=?^_`{|}~-]+)*|\"(?:[' \\\n",
    "#                                      '\\x01-\\x08\\x0b\\x0c\\x0e-\\x1f\\x21\\x23-\\x5b\\x5d-\\x7f]|\\\\[\\x01-\\x09\\x0b\\x0c\\x0e-\\x7f])*\")@(?:(?:[' \\\n",
    "#                                      'a-z0-9](?:[a-z0-9-]*[a-z0-9])?\\.)+[a-z0-9](?:[a-z0-9-]*[a-z0-9])?|\\[(?:(?:(2(5[0-5]|[0-4][' \\\n",
    "#                                      '0-9])|1[0-9][0-9]|[1-9]?[0-9]))\\.){3}(?:(2(5[0-5]|[0-4][0-9])|1[0-9][0-9]|[1-9]?[0-9])|[' \\\n",
    "#                                      'a-z0-9-]*[a-z0-9]:(?:[\\x01-\\x08\\x0b\\x0c\\x0e-\\x1f\\x21-\\x5a\\x53-\\x7f]|\\\\[' \\\n",
    "#                                      '\\x01-\\x09\\x0b\\x0c\\x0e-\\x7f])+)\\])',\n",
    "#                             is_password=True,\n",
    "#                             password_regex_pattern='^(?=.*[A-Z])(?=.*[a-z])(?=.*\\d)(?=.*[~#$*])[A-Za-z\\d~#$*]{8,}$',\n",
    "#                             is_phone_number=True,\n",
    "#                             phone_regex_pattern='^[+]*[(]{0,1}[0-9]{1,4}[)]{0,1}[-\\s\\./0-9]*$',\n",
    "                            length_range=[1, 120], \n",
    "#                             req_options=['yes', 'no'],\n",
    "                            is_date=True, \n",
    "                            in_past=True,\n",
    "                            date_format = '%Y/%m/%d',\n",
    "                            date_regex_pattern = '^\\d{4}/\\d{1,2}/\\d{1,2}$',\n",
    "                            date_comparison_operator=OperatorPrototype.create_greater_than_or_equal_to_operator('2000/1/1'),\n",
    "#                             regex_pattern='^([a-z]*)(.)*',\n",
    "                            date_range=['2000/1/1', '2020/10/1'])\n",
    "#                             functions_list=[cotain_white_space])\n",
    "\n",
    "##  test\n",
    "test_dict = {\n",
    "    'name': '2020/8/6'\n",
    "}\n",
    "\n",
    "print('Validation Report:')\n",
    "string_arg_def.assert_arg(test_dict)\n",
    "pprint(string_arg_def.validation_report)\n",
    "\n",
    "print('*' * 25)\n",
    "\n",
    "print('Help Report:')\n",
    "string_arg_def.arg_help()\n",
    "pprint(string_arg_def.help_report)"
   ]
  },
  {
   "cell_type": "markdown",
   "metadata": {},
   "source": [
    "## List Argument Test"
   ]
  },
  {
   "cell_type": "code",
   "execution_count": 6,
   "metadata": {},
   "outputs": [
    {
     "name": "stdout",
     "output_type": "stream",
     "text": [
      "Validation Report:\n",
      "{'number_list': ''}\n",
      "*************************\n",
      "Help Report:\n",
      "{'number_list': {'conditions': 'This argument is required \\n'\n",
      "                               'This argument should be list \\n'\n",
      "                               'This argument length should be in the range '\n",
      "                               '[2, 5] \\n',\n",
      "                 'list_item': 'This argument is required \\n'\n",
      "                              'This argument should be float \\n'\n",
      "                              'This argument should be one of the following '\n",
      "                              'options [1, 3, 5, 7] \\n'\n",
      "                              'This argument should be in the range [0.5, '\n",
      "                              '120.2] \\n'}}\n"
     ]
    }
   ],
   "source": [
    "## List Arguments test\n",
    "numeric_list_arg_def = ListArgument('number_list', required=True, arg_obj = NumberArgument('id_', \n",
    "                                                                                                  arg_type=float, \n",
    "                                                                                                  required=True, \n",
    "                                                                                                  req_range = [0.5, 120.2],\n",
    "                                                                                                  req_options=[1, 3, 5, 7]), \n",
    "                                length_range=[2, 5])\n",
    "test_dict = {\n",
    "    'number_list': [3, 3, 5]\n",
    "}\n",
    "\n",
    "print('Validation Report:')\n",
    "numeric_list_arg_def.assert_arg(test_dict)\n",
    "pprint(numeric_list_arg_def.validation_report)\n",
    "\n",
    "print('*' * 25)\n",
    "\n",
    "print('Help Report:')\n",
    "numeric_list_arg_def.arg_help()\n",
    "pprint(numeric_list_arg_def.help_report)"
   ]
  },
  {
   "cell_type": "markdown",
   "metadata": {},
   "source": [
    "## File Argument Test"
   ]
  },
  {
   "cell_type": "code",
   "execution_count": 7,
   "metadata": {},
   "outputs": [
    {
     "name": "stdout",
     "output_type": "stream",
     "text": [
      "Validation Report:\n",
      "Counldn't be used outside endpoint context\n",
      "*************************\n",
      "Help Report:\n",
      "{'file': {'file_conditions': 'File is required \\n'\n",
      "                             'File extension should be one of the following '\n",
      "                             \"extensions ['.jpg', '.jpeg', '.png', '.tiff', \"\n",
      "                             \"'.tif', '.gif', '.mp4', '.17', '.mp3', '.pdf', \"\n",
      "                             \"'.txt', '.docx', '.xlsx', '.csv']\",\n",
      "          'file_size': 'This argument is required \\n'\n",
      "                       'This argument should be float \\n'\n",
      "                       'This argument should be in the range [1e-05, 5] MB'}}\n"
     ]
    }
   ],
   "source": [
    "## List Arguments test\n",
    "file_arg_def = FileArgument('file', required=True, \n",
    "                                file_size=NumberArgument('file_size', required=True, arg_type=float, req_range=[0.00001, 5]))\n",
    "\n",
    "print('Validation Report:')\n",
    "print('Counldn\\'t be used outside endpoint context')\n",
    "print('*' * 25)\n",
    "\n",
    "print('Help Report:')\n",
    "file_arg_def.arg_help()\n",
    "pprint(file_arg_def.help_report)"
   ]
  },
  {
   "cell_type": "markdown",
   "metadata": {},
   "source": [
    "## Json Argument Test"
   ]
  },
  {
   "cell_type": "code",
   "execution_count": 8,
   "metadata": {},
   "outputs": [
    {
     "name": "stdout",
     "output_type": "stream",
     "text": [
      "Validation Report:\n",
      "{'attributes': ''}\n",
      "*************************\n",
      "Help Report:\n",
      "{'attributes': 'This argument is required \\n'\n",
      "               'This argument should be dict \\n'\n",
      "               \"This argument should have the following fields ['age', \"\n",
      "               \"'name'] \\n\"}\n"
     ]
    }
   ],
   "source": [
    "## List Arguments test\n",
    "json_arg_def = JsonArgument('attributes', required=True, fields=['name', 'age'])\n",
    "\n",
    "test_dict = {\n",
    "    'attributes': {'name': 'jane', 'age': 25}\n",
    "}\n",
    "\n",
    "print('Validation Report:')\n",
    "json_arg_def.assert_arg(test_dict)\n",
    "pprint(json_arg_def.validation_report)\n",
    "\n",
    "print('*' * 25)\n",
    "\n",
    "print('Help Report:')\n",
    "json_arg_def.arg_help()\n",
    "pprint(json_arg_def.help_report)"
   ]
  },
  {
   "cell_type": "markdown",
   "metadata": {},
   "source": [
    "# Help Test"
   ]
  },
  {
   "cell_type": "code",
   "execution_count": 12,
   "metadata": {},
   "outputs": [
    {
     "name": "stdout",
     "output_type": "stream",
     "text": [
      "{'body': {'email': 'This argument is required \\n'\n",
      "                   'This argument should be str \\n'\n",
      "                   'This argument should be a valid email address \\n',\n",
      "          'password': 'This argument is required \\n'\n",
      "                      'This argument should be str \\n'\n",
      "                      'This argument should be a valid email address \\n',\n",
      "          'phone': 'This argument is required \\n'\n",
      "                   'This argument should be str \\n'\n",
      "                   'This argument should be a valid phone number \\n'}}\n"
     ]
    }
   ],
   "source": [
    "body_args_def = [\n",
    "    StringArgument('email', required = True, is_email=True),\n",
    "    StringArgument('password', required = True, is_email=True),\n",
    "    StringArgument('phone', required = True, is_phone_number=True)\n",
    "    \n",
    "]\n",
    "\n",
    "\n",
    "body_status = ArgumentsStatus('body', body_args_def)\n",
    "body_status.args_help()\n",
    "pprint(body_status.help_report)"
   ]
  },
  {
   "cell_type": "code",
   "execution_count": 10,
   "metadata": {},
   "outputs": [
    {
     "name": "stdout",
     "output_type": "stream",
     "text": [
      "{'query_string': {'date': 'This argument is optional \\n'\n",
      "                          'This argument should be str \\n'\n",
      "                          'This argument should represent a date with the '\n",
      "                          'following pattern ^\\\\d{4}-\\\\d{1,2}-\\\\d{1,2}$, and '\n",
      "                          'format %Y-%m-%d \\n'\n",
      "                          'This argument should be less than 2020-07-15 \\n',\n",
      "                  'id': 'This argument is required \\n'\n",
      "                        'This argument should be int \\n'\n",
      "                        'This argument should be greater than 0 \\n',\n",
      "                  'operator': 'This argument is optional \\n'\n",
      "                              'This argument should be str \\n'\n",
      "                              'This argument should be one of the following '\n",
      "                              \"options ['yes', 'no'] \\n\"}}\n"
     ]
    }
   ],
   "source": [
    "qs_args_def = [\n",
    "    NumberArgument('id', required=True, arg_type=int, comparison_operator=OperatorPrototype.create_greater_than_operator(0)),\n",
    "    StringArgument('date', required=False, is_date=True, in_past=True),\n",
    "    StringArgument('operator', required=False, req_options=['yes', 'no'])\n",
    "    \n",
    "]\n",
    "\n",
    "\n",
    "qs_status = ArgumentsStatus('query_string', qs_args_def)\n",
    "qs_status.args_help()\n",
    "pprint(qs_status.help_report)"
   ]
  },
  {
   "cell_type": "code",
   "execution_count": 11,
   "metadata": {},
   "outputs": [],
   "source": [
    "\"\"\"\n",
    "1.to use RequestArgsValidator with an endpoint:\n",
    "\n",
    "    post_qs_args_def = []\n",
    "    post_body_args_def = []\n",
    "\n",
    "    @RequestArgsValidator.args_validation(post_qs_args_def, post_body_args_def)\n",
    "    def post(self):\n",
    "        pass\n",
    "        \n",
    "2. in order to get help report, you have to pass the folowing key, value in the headers: \n",
    "    {'help': 'help'}\n",
    "    \n",
    "\"\"\"\n",
    "pass"
   ]
  }
 ],
 "metadata": {
  "kernelspec": {
   "display_name": "Python 3",
   "language": "python",
   "name": "python3"
  },
  "language_info": {
   "codemirror_mode": {
    "name": "ipython",
    "version": 3
   },
   "file_extension": ".py",
   "mimetype": "text/x-python",
   "name": "python",
   "nbconvert_exporter": "python",
   "pygments_lexer": "ipython3",
   "version": "3.6.8"
  }
 },
 "nbformat": 4,
 "nbformat_minor": 2
}
